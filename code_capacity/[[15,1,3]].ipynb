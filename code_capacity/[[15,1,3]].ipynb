{
 "cells": [
  {
   "cell_type": "code",
   "execution_count": 1,
   "metadata": {},
   "outputs": [],
   "source": [
    "import pickle\n",
    "\n",
    "from autdec.code_capacity import *\n",
    "from autdec.perm_utils import *\n",
    "from autdec.igraph_auts import *"
   ]
  },
  {
   "cell_type": "markdown",
   "metadata": {},
   "source": [
    "## [[15,1,3]] - Quantum Reed-Muller Code "
   ]
  },
  {
   "cell_type": "code",
   "execution_count": 2,
   "metadata": {},
   "outputs": [],
   "source": [
    "n = 15\n",
    "k = 1\n",
    "d = 3\n",
    "m = n - k\n",
    "mx = 4\n",
    "mz = m - mx\n",
    "H_symp =  np.array([[1,0,1,0,1,0,1,0,1,0,1,0,1,0,1,0,0,0,0,0,0,0,0,0,0,0,0,0,0,0],\n",
    "                    [0,1,1,0,0,1,1,0,0,1,1,0,0,1,1,0,0,0,0,0,0,0,0,0,0,0,0,0,0,0],\n",
    "                    [0,0,0,1,1,1,1,0,0,0,0,1,1,1,1,0,0,0,0,0,0,0,0,0,0,0,0,0,0,0],\n",
    "                    [0,0,0,0,0,0,0,1,1,1,1,1,1,1,1,0,0,0,0,0,0,0,0,0,0,0,0,0,0,0],\n",
    "                    [0,0,0,0,0,0,0,0,0,0,0,0,0,0,0,1,0,1,0,1,0,1,0,1,0,1,0,1,0,1],\n",
    "                    [0,0,0,0,0,0,0,0,0,0,0,0,0,0,0,0,1,1,0,0,1,1,0,0,1,1,0,0,1,1],\n",
    "                    [0,0,0,0,0,0,0,0,0,0,0,0,0,0,0,0,0,0,1,1,1,1,0,0,0,0,1,1,1,1],\n",
    "                    [0,0,0,0,0,0,0,0,0,0,0,0,0,0,0,0,0,0,0,0,0,0,1,1,1,1,1,1,1,1],\n",
    "                    [0,0,0,0,0,0,0,0,0,0,0,0,0,0,0,0,0,1,0,0,0,1,0,0,0,1,0,0,0,1],\n",
    "                    [0,0,0,0,0,0,0,0,0,0,0,0,0,0,0,0,0,0,0,1,0,1,0,0,0,0,0,1,0,1],\n",
    "                    [0,0,0,0,0,0,0,0,0,0,0,0,0,0,0,0,0,0,0,0,1,1,0,0,0,0,0,0,1,1],\n",
    "                    [0,0,0,0,0,0,0,0,0,0,0,0,0,0,0,0,0,0,0,0,0,0,0,0,1,1,0,0,1,1],\n",
    "                    [0,0,0,0,0,0,0,0,0,0,0,0,0,0,0,0,0,0,0,0,0,0,0,0,0,0,1,1,1,1],\n",
    "                    [0,0,0,0,0,0,0,0,0,0,0,0,0,0,0,0,0,0,0,0,0,0,0,1,0,1,0,1,0,1]])\n",
    "\n",
    "HX = H_symp[:mx,:n]\n",
    "HZ = H_symp[mx:,n:]\n",
    "\n",
    "\n",
    "G, LX, LZ, D = compute_standard_form(H_symp)\n",
    "\n",
    "LX = LX[:,:n]\n",
    "LZ = LZ[:,n:]"
   ]
  },
  {
   "cell_type": "code",
   "execution_count": 3,
   "metadata": {},
   "outputs": [
    {
     "name": "stdout",
     "output_type": "stream",
     "text": [
      "HX aut group: 20160\n",
      "HZ aut group: 20160\n"
     ]
    }
   ],
   "source": [
    "### Load pre-generated code automorphisms of [[15,1,3]] ###\n",
    "with open(f'HX_auts_n15k1d3.pkl','rb') as f:\n",
    "    HX_auts = pickle.load(f)\n",
    "    ord_HXauts = len(HX_auts)+1\n",
    "print('HX aut group:', ord_HXauts)\n",
    "\n",
    "with open(f'HZ_auts_n15k1d3.pkl','rb') as f:\n",
    "    HZ_auts = pickle.load(f)\n",
    "    ord_HZauts = len(HZ_auts)+1\n",
    "print('HZ aut group:', ord_HZauts) # same as HX"
   ]
  },
  {
   "cell_type": "code",
   "execution_count": 4,
   "metadata": {},
   "outputs": [],
   "source": [
    "# Pick random elements from list of automorphisms\n",
    "batchsize = 15\n",
    "auts_ind_list=random.sample(range(1,ord_HXauts),batchsize)\n",
    "auts_ind_list=np.hstack((0,auts_ind_list)) # always include identity perm (base decoder)\n",
    "A_X_list = [np.eye(n,dtype=int)]\n",
    "A_Z_list = [np.eye(n,dtype=int)]\n",
    "for i in auts_ind_list:\n",
    "    if i == 0:\n",
    "        continue\n",
    "    else: \n",
    "        A_X_list.append(perm_mat_from_aut(HX_auts[i-1],n))\n",
    "        A_Z_list.append(perm_mat_from_aut(HZ_auts[i-1],n))"
   ]
  },
  {
   "cell_type": "code",
   "execution_count": 5,
   "metadata": {},
   "outputs": [
    {
     "name": "stdout",
     "output_type": "stream",
     "text": [
      "Starting decoding.\n",
      "Trial no      BaseDec Errors   AutDEC Errors\n",
      "5000                       9               0\n",
      "10000                     17               0\n",
      "15000                     25               0\n",
      "20000                     37               0\n",
      "25000                     54               0\n",
      "30000                     67               0\n",
      "35000                     73               0\n",
      "40000                     80               0\n",
      "45000                     90               0\n",
      "50000                    109               0\n",
      "55000                    118               0\n",
      "60000                    129               0\n",
      "65000                    144               0\n",
      "70000                    153               0\n",
      "75000                    162               0\n",
      "80000                    173               1\n",
      "85000                    182               1\n",
      "90000                    193               1\n",
      "95000                    206               1\n",
      "100000                   215               1\n"
     ]
    },
    {
     "data": {
      "text/plain": [
       "(100000, 215, 1)"
      ]
     },
     "execution_count": 5,
     "metadata": {},
     "output_type": "execute_result"
    }
   ],
   "source": [
    "error_rate = 0.0006\n",
    "shots = 10**5\n",
    "\n",
    "maxiter = n\n",
    "bp_method = 'ms'\n",
    "ms_factor = 1.0\n",
    "BP_hyperparams = {'max_iter': maxiter,\n",
    "                'bp_method': bp_method,\n",
    "                'ms_scaling_factor': ms_factor}\n",
    "\n",
    "\n",
    "\n",
    "AutDEC_code_capacity(HX,HZ,LX,LZ,error_rate,shots,'BP',BP_hyperparams,A_X_list,A_Z_list)"
   ]
  }
 ],
 "metadata": {
  "kernelspec": {
   "display_name": "autdec",
   "language": "python",
   "name": "python3"
  },
  "language_info": {
   "codemirror_mode": {
    "name": "ipython",
    "version": 3
   },
   "file_extension": ".py",
   "mimetype": "text/x-python",
   "name": "python",
   "nbconvert_exporter": "python",
   "pygments_lexer": "ipython3",
   "version": "3.11.5"
  }
 },
 "nbformat": 4,
 "nbformat_minor": 2
}
