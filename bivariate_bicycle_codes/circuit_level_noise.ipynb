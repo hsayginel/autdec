{
 "cells": [
  {
   "cell_type": "code",
   "execution_count": 1,
   "metadata": {},
   "outputs": [
    {
     "name": "stdout",
     "output_type": "stream",
     "text": [
      "Stim version: 1.14.0\n"
     ]
    }
   ],
   "source": [
    "# python\n",
    "import pickle\n",
    "import numpy as np\n",
    "import random\n",
    "from scipy.sparse import csr_matrix\n",
    "\n",
    "# AutDEC\n",
    "from autdec.bb_cln import *\n",
    "from autdec.perm_utils import perm_mat_from_aut\n",
    "from autdec.igraph_auts import *"
   ]
  },
  {
   "cell_type": "code",
   "execution_count": null,
   "metadata": {},
   "outputs": [],
   "source": [
    "n = 144"
   ]
  },
  {
   "cell_type": "code",
   "execution_count": null,
   "metadata": {},
   "outputs": [],
   "source": [
    "# Load auts\n",
    "if n == 72: \n",
    "    code_name = 'BB72'\n",
    "    chk_shape = (252,2232)\n",
    "    k = 12\n",
    "    with open(f'graph_auts/n{n}k{k}_graph_autsZ.pkl', 'rb') as f:\n",
    "        auts = pickle.load(f)\n",
    "        auts_ord = len(auts)\n",
    "    DEM_col_perms = [np.eye(chk_shape[1],dtype=int)]\n",
    "    DEM_row_perms = [np.eye(chk_shape[0],dtype=int)]\n",
    "    for a in auts: \n",
    "        P = perm_mat_from_aut(a,chk_shape[0]+chk_shape[1])\n",
    "        DEM_col_perms.append(P[:chk_shape[1],:chk_shape[1]])\n",
    "        DEM_row_perms.append(P[chk_shape[1]:,chk_shape[1]:])\n",
    "elif n==90:\n",
    "    code_name = 'BB90'\n",
    "    chk_shape = (495,4590)\n",
    "    k = 8\n",
    "    with open(f'graph_auts/n{n}k{k}_graph_autsZ.pkl', 'rb') as f:\n",
    "        auts = pickle.load(f)\n",
    "        auts_ord = len(auts)\n",
    "    DEM_col_perms = [np.eye(chk_shape[1],dtype=int)]\n",
    "    DEM_row_perms = [np.eye(chk_shape[0],dtype=int)]\n",
    "    for a in auts: \n",
    "        P = perm_mat_from_aut(a,chk_shape[0]+chk_shape[1])\n",
    "        DEM_col_perms.append(P[:chk_shape[1],:chk_shape[1]])\n",
    "        DEM_row_perms.append(P[chk_shape[1]:,chk_shape[1]:])\n",
    "elif n==144:\n",
    "    code_name = 'BB144'\n",
    "    chk_shape = (936,8784)\n",
    "    k = 12\n",
    "    with open(f'graph_auts/n{n}k{k}_graph_autsZ.pkl', 'rb') as f:\n",
    "        auts = pickle.load(f)\n",
    "        auts_ord = len(auts)\n",
    "    DEM_col_perms = [np.eye(chk_shape[1],dtype=int)]\n",
    "    DEM_row_perms = [np.eye(chk_shape[0],dtype=int)]\n",
    "    for a in auts: \n",
    "        P = perm_mat_from_aut(a,chk_shape[0]+chk_shape[1])\n",
    "        DEM_col_perms.append(P[:chk_shape[1],:chk_shape[1]])\n",
    "        DEM_row_perms.append(P[chk_shape[1]:,chk_shape[1]:])\n",
    "\n",
    "else: \n",
    "    code_name = f'BB{n}'\n",
    "    chk = bb_dem_matrix(code_name) # DEM check matrix\n",
    "    chk_shape = chk.shape\n",
    "    DEM_col_perms, DEM_row_perms = vertex_graph_auts_from_bliss(chk)\n",
    "    auts_ord=len(DEM_row_perms)\n",
    "print(f\"Auts: {auts_ord+1}\")\n"
   ]
  },
  {
   "cell_type": "code",
   "execution_count": null,
   "metadata": {},
   "outputs": [],
   "source": [
    "# Pick random elements from list of automorphisms\n",
    "batchsize = 10\n",
    "auts_ind_list=random.sample(range(1,auts_ord),batchsize)\n",
    "auts_ind_list=np.hstack((0,auts_ind_list)) # always include identity perm (base decoder)\n",
    "\n",
    "\n",
    "DEM_col_perms = [csr_matrix(DEM_col_perms[a]) for a in auts_ind_list]\n",
    "DEM_row_perms = [csr_matrix(DEM_row_perms[a]) for a in auts_ind_list]\n",
    "print(f'No of random auts taken: {len(auts_ind_list)}')"
   ]
  },
  {
   "cell_type": "markdown",
   "metadata": {},
   "source": [
    "# AutBP"
   ]
  },
  {
   "cell_type": "code",
   "execution_count": null,
   "metadata": {},
   "outputs": [],
   "source": [
    "e = 0.0040\n",
    "num_shots = 10**3\n",
    "BP_iters = 10000\n",
    "BP_method = \"ms\"\n",
    "ms_factor = 1.0 \n",
    "BP_hyperparams = {'max_iter': BP_iters,\n",
    "                  'bp_method': BP_method,\n",
    "                  'ms_scaling_factor': ms_factor}\n",
    "\n",
    "\n",
    "print(code_name)\n",
    "\n",
    "\n",
    "print(autdecode_bb_cln(code_name,e, num_shots, DEM_col_perms, DEM_row_perms, base_decoder='BP',decoder_hyperparams=BP_hyperparams,basis='Z'))"
   ]
  }
 ],
 "metadata": {
  "kernelspec": {
   "display_name": "autdec",
   "language": "python",
   "name": "python3"
  },
  "language_info": {
   "codemirror_mode": {
    "name": "ipython",
    "version": 3
   },
   "file_extension": ".py",
   "mimetype": "text/x-python",
   "name": "python",
   "nbconvert_exporter": "python",
   "pygments_lexer": "ipython3",
   "version": "3.11.5"
  }
 },
 "nbformat": 4,
 "nbformat_minor": 2
}
