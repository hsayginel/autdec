{
 "cells": [
  {
   "cell_type": "code",
   "execution_count": 1,
   "metadata": {},
   "outputs": [],
   "source": [
    "# python\n",
    "import pickle\n",
    "import numpy as np\n",
    "import random\n",
    "from scipy.sparse import csr_matrix\n",
    "\n",
    "# AutDEC\n",
    "from autdec.bb_cln import *\n",
    "from autdec.perm_utils import perm_mat_from_aut\n",
    "from autdec.igraph_auts import *"
   ]
  },
  {
   "cell_type": "markdown",
   "metadata": {},
   "source": [
    "## Bivariate Bicycle Codes: Circuit-Level Noise Simulations\n",
    "\n",
    "### Choose BB code:"
   ]
  },
  {
   "cell_type": "code",
   "execution_count": 2,
   "metadata": {},
   "outputs": [],
   "source": [
    "n = 72"
   ]
  },
  {
   "cell_type": "markdown",
   "metadata": {},
   "source": [
    "For the [[72,12,6]], [[90,8,10]] and [[144,12,12]] BB codes, the graph automorphism files of the detector error model check matrix are pregenerated and stored in the `bivariate_bicycle_codes\\graph_auts` folder. \n",
    "\n",
    "For the rest of the BB codes in the original paper, the detector error model graph automorphisms can be computed below by entering the corresponding physical qubit number `n`."
   ]
  },
  {
   "cell_type": "code",
   "execution_count": 3,
   "metadata": {},
   "outputs": [
    {
     "name": "stdout",
     "output_type": "stream",
     "text": [
      "Automorphisms: 36\n"
     ]
    }
   ],
   "source": [
    "# Load auts\n",
    "if n == 72: \n",
    "    code_name = 'BB72'\n",
    "    chk_shape = (252,2232)\n",
    "    k = 12\n",
    "    with open(f'graph_auts/n{n}k{k}_graph_autsZ.pkl', 'rb') as f:\n",
    "        auts = pickle.load(f)\n",
    "        auts_ord = len(auts)\n",
    "    DEM_col_perms = [np.eye(chk_shape[1],dtype=int)]\n",
    "    DEM_row_perms = [np.eye(chk_shape[0],dtype=int)]\n",
    "    for a in auts: \n",
    "        P = perm_mat_from_aut(a,chk_shape[0]+chk_shape[1])\n",
    "        DEM_col_perms.append(P[:chk_shape[1],:chk_shape[1]])\n",
    "        DEM_row_perms.append(P[chk_shape[1]:,chk_shape[1]:])\n",
    "elif n==90:\n",
    "    code_name = 'BB90'\n",
    "    chk_shape = (495,4590)\n",
    "    k = 8\n",
    "    with open(f'graph_auts/n{n}k{k}_graph_autsZ.pkl', 'rb') as f:\n",
    "        auts = pickle.load(f)\n",
    "        auts_ord = len(auts)\n",
    "    DEM_col_perms = [np.eye(chk_shape[1],dtype=int)]\n",
    "    DEM_row_perms = [np.eye(chk_shape[0],dtype=int)]\n",
    "    for a in auts: \n",
    "        P = perm_mat_from_aut(a,chk_shape[0]+chk_shape[1])\n",
    "        DEM_col_perms.append(P[:chk_shape[1],:chk_shape[1]])\n",
    "        DEM_row_perms.append(P[chk_shape[1]:,chk_shape[1]:])\n",
    "elif n==144:\n",
    "    code_name = 'BB144'\n",
    "    chk_shape = (936,8784)\n",
    "    k = 12\n",
    "    with open(f'graph_auts/n{n}k{k}_graph_autsZ.pkl', 'rb') as f:\n",
    "        auts = pickle.load(f)\n",
    "        auts_ord = len(auts)\n",
    "    DEM_col_perms = [np.eye(chk_shape[1],dtype=int)]\n",
    "    DEM_row_perms = [np.eye(chk_shape[0],dtype=int)]\n",
    "    for a in auts: \n",
    "        P = perm_mat_from_aut(a,chk_shape[0]+chk_shape[1])\n",
    "        DEM_col_perms.append(P[:chk_shape[1],:chk_shape[1]])\n",
    "        DEM_row_perms.append(P[chk_shape[1]:,chk_shape[1]:])\n",
    "\n",
    "else: \n",
    "    code_name = f'BB{n}'\n",
    "    chk = bb_dem_matrix(code_name) # DEM check matrix\n",
    "    chk_shape = chk.shape\n",
    "    DEM_col_perms, DEM_row_perms = vertex_graph_auts_from_bliss(chk,print_order=False)\n",
    "    auts_ord=len(DEM_row_perms)\n",
    "print(f\"Automorphisms: {auts_ord+1}\")\n"
   ]
  },
  {
   "cell_type": "markdown",
   "metadata": {},
   "source": [
    "## Choose ensemble size"
   ]
  },
  {
   "cell_type": "code",
   "execution_count": 4,
   "metadata": {},
   "outputs": [
    {
     "name": "stdout",
     "output_type": "stream",
     "text": [
      "No of random auts taken: 19\n"
     ]
    }
   ],
   "source": [
    "# Pick random elements from list of automorphisms\n",
    "batchsize = 18\n",
    "auts_ind_list=random.sample(range(1,auts_ord),batchsize)\n",
    "auts_ind_list=np.hstack((0,auts_ind_list)) # always include identity perm (base decoder)\n",
    "\n",
    "\n",
    "DEM_col_perms = [DEM_col_perms[a] for a in auts_ind_list]\n",
    "DEM_row_perms = [DEM_row_perms[a] for a in auts_ind_list]\n",
    "print(f'No of random auts taken: {len(auts_ind_list)}')"
   ]
  },
  {
   "cell_type": "markdown",
   "metadata": {},
   "source": [
    "# AutDEC"
   ]
  },
  {
   "cell_type": "code",
   "execution_count": 5,
   "metadata": {},
   "outputs": [
    {
     "name": "stdout",
     "output_type": "stream",
     "text": [
      "BB72\n",
      "Starting decoding.\n",
      "Trial no      BaseDec Errors   AutDEC Errors\n",
      "100                       10               5\n",
      "200                       20              14\n",
      "300                       30              23\n",
      "400                       44              33\n",
      "500                       51              39\n",
      "600                       66              51\n",
      "700                       82              64\n",
      "800                       96              73\n",
      "900                      109              83\n",
      "1000                     122              92\n",
      "(1000, np.int64(122), np.int64(92))\n"
     ]
    }
   ],
   "source": [
    "e = 0.0050\n",
    "num_shots = 10**3\n",
    "BP_iters = 1000\n",
    "BP_method = \"ms\"\n",
    "ms_factor = 1.0\n",
    "BP_hyperparams = {'max_iter': BP_iters,\n",
    "                  'bp_method': BP_method,\n",
    "                  'ms_scaling_factor': ms_factor}\n",
    "\n",
    "\n",
    "print(code_name)\n",
    "\n",
    "\n",
    "print(autdecode_bb_cln(code_name,e, num_shots, DEM_col_perms, DEM_row_perms, base_decoder='BP',decoder_hyperparams=BP_hyperparams,basis='Z'))"
   ]
  }
 ],
 "metadata": {
  "kernelspec": {
   "display_name": "autdec",
   "language": "python",
   "name": "python3"
  },
  "language_info": {
   "codemirror_mode": {
    "name": "ipython",
    "version": 3
   },
   "file_extension": ".py",
   "mimetype": "text/x-python",
   "name": "python",
   "nbconvert_exporter": "python",
   "pygments_lexer": "ipython3",
   "version": "3.11.5"
  }
 },
 "nbformat": 4,
 "nbformat_minor": 2
}
